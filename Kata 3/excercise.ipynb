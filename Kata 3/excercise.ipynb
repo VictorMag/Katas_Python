{
 "cells": [
  {
   "cell_type": "markdown",
   "metadata": {},
   "source": [
    "# Primer ejercicio"
   ]
  },
  {
   "cell_type": "code",
   "execution_count": 2,
   "metadata": {},
   "outputs": [
    {
     "name": "stdout",
     "output_type": "stream",
     "text": [
      "Asteroide peligrosamente cerca\n"
     ]
    }
   ],
   "source": [
    "velocidadAsteroide = 49 #km/s\n",
    "advertencia = 25 #km/s\n",
    "if velocidadAsteroide > advertencia:\n",
    "    print (\"Asteroide peligrosamente cerca\")\n",
    "else:\n",
    "    print(\"Todo normal\")"
   ]
  },
  {
   "cell_type": "markdown",
   "metadata": {},
   "source": [
    "# Segundo Ejercicio"
   ]
  },
  {
   "cell_type": "code",
   "execution_count": 3,
   "metadata": {},
   "outputs": [
    {
     "name": "stdout",
     "output_type": "stream",
     "text": [
      "El asteroide no es visible en la tierra\n"
     ]
    }
   ],
   "source": [
    "velocidadAsteroide = 19 #km/s\n",
    "visible = 20 #km/s\n",
    "if velocidadAsteroide >= visible:\n",
    "    print(\"El asteroide es visible en la tierra\")\n",
    "elif velocidadAsteroide < visible:\n",
    "    print (\"El asteroide no es visible en la tierra\")"
   ]
  },
  {
   "cell_type": "markdown",
   "metadata": {},
   "source": [
    "# Tercer Ejercicio"
   ]
  },
  {
   "cell_type": "code",
   "execution_count": 7,
   "metadata": {},
   "outputs": [
    {
     "name": "stdout",
     "output_type": "stream",
     "text": [
      "Peligro inminente para la tierra\n"
     ]
    }
   ],
   "source": [
    "asteroideMasa = 33 #mts\n",
    "asteroideVelocidad = 18 #km/s\n",
    "alerta = 20 #km/s\n",
    "\n",
    "if asteroideMasa >= 20 or asteroideMasa < 1000:\n",
    "    print (\"Peligro inminente para la tierra\")\n",
    "elif asteroideVelocidad > alerta:\n",
    "    print(\"Un astoroide será visible hoy\")\n",
    "else:\n",
    "    print(\"Un día normal\")"
   ]
  }
 ],
 "metadata": {
  "interpreter": {
   "hash": "8fa9360b62c23c3945f35d0f60569dce0ac5ba44108c71ece1b7fb180a326c96"
  },
  "kernelspec": {
   "display_name": "Python 3.9.10 64-bit (windows store)",
   "language": "python",
   "name": "python3"
  },
  "language_info": {
   "codemirror_mode": {
    "name": "ipython",
    "version": 3
   },
   "file_extension": ".py",
   "mimetype": "text/x-python",
   "name": "python",
   "nbconvert_exporter": "python",
   "pygments_lexer": "ipython3",
   "version": "3.9.10"
  },
  "orig_nbformat": 4
 },
 "nbformat": 4,
 "nbformat_minor": 2
}
