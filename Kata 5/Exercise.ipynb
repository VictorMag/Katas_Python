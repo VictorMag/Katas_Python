{
 "cells": [
  {
   "cell_type": "markdown",
   "metadata": {},
   "source": [
    "# Ejercicio 1"
   ]
  },
  {
   "cell_type": "code",
   "execution_count": 2,
   "metadata": {},
   "outputs": [
    {
     "name": "stdout",
     "output_type": "stream",
     "text": [
      "390577534\n"
     ]
    }
   ],
   "source": [
    "from math import ceil, floor\n",
    "\n",
    "tierra = 149597870\n",
    "jupiter = 778547200\n",
    "\n",
    "distancia = (jupiter - tierra) * 0.621\n",
    "\n",
    "print(ceil(distancia))"
   ]
  },
  {
   "cell_type": "markdown",
   "metadata": {},
   "source": [
    "# Ejercicio 2"
   ]
  },
  {
   "cell_type": "code",
   "execution_count": 3,
   "metadata": {},
   "outputs": [
    {
     "name": "stdout",
     "output_type": "stream",
     "text": [
      "1234567\n",
      "12345678\n"
     ]
    }
   ],
   "source": [
    "# Planetas\n",
    "\n",
    "marte = input('Distancia de Marte respecto al Sol: ')\n",
    "print (marte)\n",
    "urano = input('Distancia de Urano respecto al Sol: ')\n",
    "print (urano)"
   ]
  },
  {
   "cell_type": "code",
   "execution_count": 5,
   "metadata": {},
   "outputs": [
    {
     "ename": "TypeError",
     "evalue": "unsupported operand type(s) for +: 'type' and 'type'",
     "output_type": "error",
     "traceback": [
      "\u001b[1;31m---------------------------------------------------------------------------\u001b[0m",
      "\u001b[1;31mTypeError\u001b[0m                                 Traceback (most recent call last)",
      "\u001b[1;32mc:\\Users\\marga\\Documents\\Oko\\Microsoft\\Kata 5\\Exercise.ipynb Cell 5'\u001b[0m in \u001b[0;36m<module>\u001b[1;34m\u001b[0m\n\u001b[0;32m      <a href='vscode-notebook-cell:/c%3A/Users/marga/Documents/Oko/Microsoft/Kata%205/Exercise.ipynb#ch0000005?line=0'>1</a>\u001b[0m marte \u001b[39m=\u001b[39m \u001b[39mint\u001b[39m \n\u001b[0;32m      <a href='vscode-notebook-cell:/c%3A/Users/marga/Documents/Oko/Microsoft/Kata%205/Exercise.ipynb#ch0000005?line=1'>2</a>\u001b[0m urano \u001b[39m=\u001b[39m \u001b[39mint\u001b[39m\n\u001b[1;32m----> <a href='vscode-notebook-cell:/c%3A/Users/marga/Documents/Oko/Microsoft/Kata%205/Exercise.ipynb#ch0000005?line=3'>4</a>\u001b[0m dist \u001b[39m=\u001b[39m marte \u001b[39m+\u001b[39;49m urano\n\u001b[0;32m      <a href='vscode-notebook-cell:/c%3A/Users/marga/Documents/Oko/Microsoft/Kata%205/Exercise.ipynb#ch0000005?line=4'>5</a>\u001b[0m \u001b[39mprint\u001b[39m (dist)\n",
      "\u001b[1;31mTypeError\u001b[0m: unsupported operand type(s) for +: 'type' and 'type'"
     ]
    }
   ],
   "source": [
    "marte = int (marte)\n",
    "urano = int (urano)\n",
    "\n",
    "dist = marte + urano\n",
    "print (dist)"
   ]
  }
 ],
 "metadata": {
  "interpreter": {
   "hash": "8fa9360b62c23c3945f35d0f60569dce0ac5ba44108c71ece1b7fb180a326c96"
  },
  "kernelspec": {
   "display_name": "Python 3.9.10 64-bit (windows store)",
   "language": "python",
   "name": "python3"
  },
  "language_info": {
   "codemirror_mode": {
    "name": "ipython",
    "version": 3
   },
   "file_extension": ".py",
   "mimetype": "text/x-python",
   "name": "python",
   "nbconvert_exporter": "python",
   "pygments_lexer": "ipython3",
   "version": "3.9.10"
  },
  "orig_nbformat": 4
 },
 "nbformat": 4,
 "nbformat_minor": 2
}
